{
  "nbformat": 4,
  "nbformat_minor": 0,
  "metadata": {
    "colab": {
      "provenance": []
    },
    "kernelspec": {
      "name": "python3",
      "display_name": "Python 3"
    },
    "language_info": {
      "name": "python"
    }
  },
  "cells": [
    {
      "cell_type": "code",
      "source": [
        "import pandas as pd\n",
        "\n",
        "df_train = pd.read_csv(\"viral-vs-nonviral_train.csv\")\n",
        "# Features\n",
        "X_train = df_train.iloc[:, 1:]\n",
        "\n",
        "# Labels\n",
        "y_train_rev = df_train[\"Domain\"]\n",
        "\n",
        "df_test = pd.read_csv(\"viral-vs-nonviral_test.csv\")\n",
        "# Features\n",
        "X_test = df_test.iloc[:, 1:]\n",
        "\n",
        "# Labels\n",
        "y_test_rev = df_test[\"Domain\"]\n",
        "\n",
        "df_test1 = pd.read_csv(\"viral-vs-nonviral_test1.csv\")\n",
        "# Features\n",
        "X_test1 = df_test1.iloc[:, 1:]\n",
        "\n",
        "# Labels\n",
        "y_test_rev1 = df_test1[\"Domain\"]\n",
        "\n",
        "df_test2 = pd.read_csv(\"viral-vs-nonviral_test2.csv\")\n",
        "# Features\n",
        "X_test2 = df_test2.iloc[:, 1:]\n",
        "\n",
        "# Labels\n",
        "y_test_rev2 = df_test2[\"Domain\"]\n"
      ],
      "metadata": {
        "id": "0-N6ipcq2H4X"
      },
      "execution_count": 24,
      "outputs": []
    },
    {
      "cell_type": "code",
      "source": [
        "from sklearn.ensemble import VotingClassifier\n",
        "from sklearn.metrics import accuracy_score, confusion_matrix\n",
        "from sklearn.linear_model import LogisticRegression, SGDClassifier\n",
        "from sklearn.naive_bayes import GaussianNB\n",
        "from sklearn.ensemble import RandomForestClassifier, VotingClassifier, BaggingClassifier, HistGradientBoostingClassifier, ExtraTreesClassifier\n",
        "from sklearn.neighbors import KNeighborsClassifier\n",
        "from sklearn.tree import DecisionTreeClassifier\n",
        "clf1 = LogisticRegression(multi_class='auto', max_iter=1000, random_state=1)\n",
        "clf2 = RandomForestClassifier(n_estimators=50, random_state=1)\n",
        "clf3 = GaussianNB()\n",
        "clf4 = DecisionTreeClassifier()\n",
        "clf5 = KNeighborsClassifier(n_neighbors=5)\n",
        "clf6 = BaggingClassifier()\n",
        "clf7 = HistGradientBoostingClassifier()\n",
        "clf8 = ExtraTreesClassifier()\n",
        "clf9 = SGDClassifier(loss=\"log_loss\")\n",
        "classifier = VotingClassifier([('lr', clf1), ('rf', clf2), ('gnb', clf3), ('dt', clf4), ('knn', clf5), ('bc', clf6), ('hgb', clf7), ('etc', clf8), ('sgd', clf9)], voting='soft')\n",
        "classifier=classifier.fit(X_train,y_train_rev)"
      ],
      "metadata": {
        "id": "f3H2lPS4D2oT"
      },
      "execution_count": 20,
      "outputs": []
    },
    {
      "cell_type": "code",
      "source": [
        "y_pred = classifier.predict(X_test)\n",
        "accuracy = accuracy_score(y_test_rev, y_pred)\n",
        "print(confusion_matrix(y_test_rev, y_pred))\n",
        "print(f\"Accuracy: {accuracy}\")"
      ],
      "metadata": {
        "colab": {
          "base_uri": "https://localhost:8080/"
        },
        "id": "f-onWZuAEJeg",
        "outputId": "e5f4b39b-ab6d-4559-b23e-d5c7a58e455e"
      },
      "execution_count": 22,
      "outputs": [
        {
          "output_type": "stream",
          "name": "stdout",
          "text": [
            "[[986  14]\n",
            " [ 14 387]]\n",
            "Accuracy: 0.9800142755174875\n"
          ]
        }
      ]
    },
    {
      "cell_type": "code",
      "source": [
        "y_pred = classifier.predict(X_test1)\n",
        "accuracy = accuracy_score(y_test_rev1, y_pred)\n",
        "print(confusion_matrix(y_test_rev1, y_pred))\n",
        "print(f\"Accuracy: {accuracy}\")"
      ],
      "metadata": {
        "colab": {
          "base_uri": "https://localhost:8080/"
        },
        "id": "EDVeYmJSx1a-",
        "outputId": "5f3d76cc-d8bf-4e26-bf9a-92ee5091f289"
      },
      "execution_count": 25,
      "outputs": [
        {
          "output_type": "stream",
          "name": "stdout",
          "text": [
            "[[1980   20]\n",
            " [  32 1968]]\n",
            "Accuracy: 0.987\n"
          ]
        }
      ]
    },
    {
      "cell_type": "code",
      "source": [
        "y_pred = classifier.predict(X_test2)\n",
        "accuracy = accuracy_score(y_test_rev2, y_pred)\n",
        "print(confusion_matrix(y_test_rev2, y_pred))\n",
        "print(f\"Accuracy: {accuracy}\")"
      ],
      "metadata": {
        "colab": {
          "base_uri": "https://localhost:8080/"
        },
        "id": "E4kUVOr5x1-F",
        "outputId": "898be801-9bb2-48a4-967a-354ae2f0fb6d"
      },
      "execution_count": 26,
      "outputs": [
        {
          "output_type": "stream",
          "name": "stdout",
          "text": [
            "[[1181   19]\n",
            " [   1 1071]]\n",
            "Accuracy: 0.9911971830985915\n"
          ]
        }
      ]
    }
  ]
}